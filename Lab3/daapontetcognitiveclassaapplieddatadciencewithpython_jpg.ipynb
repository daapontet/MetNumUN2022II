{
  "nbformat": 4,
  "nbformat_minor": 0,
  "metadata": {
    "colab": {
      "provenance": [],
      "authorship_tag": "ABX9TyMhyk8pfhjlbHwLULYC2u1U",
      "include_colab_link": true
    },
    "kernelspec": {
      "name": "python3",
      "display_name": "Python 3"
    },
    "language_info": {
      "name": "python"
    }
  },
  "cells": [
    {
      "cell_type": "markdown",
      "metadata": {
        "id": "view-in-github",
        "colab_type": "text"
      },
      "source": [
        "<a href=\"https://colab.research.google.com/github/daapontet/MetNumUN2022II/blob/main/Lab3/daapontetcognitiveclassaapplieddatadciencewithpython_jpg.ipynb\" target=\"_parent\"><img src=\"https://colab.research.google.com/assets/colab-badge.svg\" alt=\"Open In Colab\"/></a>"
      ]
    },
    {
      "cell_type": "markdown",
      "source": [
        "**access to cognitive class diplomas:**\n",
        "linkedin.com/in/quimicodanielaponte/"
      ],
      "metadata": {
        "id": "-kTOPE6YWSTp"
      }
    },
    {
      "cell_type": "code",
      "execution_count": null,
      "metadata": {
        "id": "qcp5H54aV2kL"
      },
      "outputs": [],
      "source": []
    }
  ]
}